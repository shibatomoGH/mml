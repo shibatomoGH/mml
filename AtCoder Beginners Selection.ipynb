{
  "nbformat": 4,
  "nbformat_minor": 0,
  "metadata": {
    "colab": {
      "provenance": [],
      "authorship_tag": "ABX9TyO/2/VnmQ3anR/G9h4m4bEl",
      "include_colab_link": true
    },
    "kernelspec": {
      "name": "python3",
      "display_name": "Python 3"
    },
    "language_info": {
      "name": "python"
    }
  },
  "cells": [
    {
      "cell_type": "markdown",
      "metadata": {
        "id": "view-in-github",
        "colab_type": "text"
      },
      "source": [
        "<a href=\"https://colab.research.google.com/github/shibatomoGH/mml/blob/main/AtCoder%20Beginners%20Selection.ipynb\" target=\"_parent\"><img src=\"https://colab.research.google.com/assets/colab-badge.svg\" alt=\"Open In Colab\"/></a>"
      ]
    },
    {
      "cell_type": "code",
      "execution_count": 1,
      "metadata": {
        "colab": {
          "base_uri": "https://localhost:8080/"
        },
        "id": "g87yRABZcFXM",
        "outputId": "26dccf0f-d2a9-4a54-8b67-0a0f3f2847ee"
      },
      "outputs": [
        {
          "output_type": "stream",
          "name": "stdout",
          "text": [
            "1\n",
            "2 3\n",
            "hello\n",
            "6 hello\n"
          ]
        }
      ],
      "source": [
        "a = int(input())\n",
        "b,c = map(int, input().split())\n",
        "s = input()\n",
        "print(\"{} {}\".format(a+b+c, s))"
      ]
    }
  ]
}